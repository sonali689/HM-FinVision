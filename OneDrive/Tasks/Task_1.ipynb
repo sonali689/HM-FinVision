{
 "cells": [
  {
   "cell_type": "code",
   "execution_count": 15,
   "id": "9f82ef5a",
   "metadata": {},
   "outputs": [
    {
     "name": "stderr",
     "output_type": "stream",
     "text": [
      "C:\\Users\\dubey\\AppData\\Local\\Temp\\ipykernel_29536\\2606303267.py:50: FutureWarning: DataFrame.applymap has been deprecated. Use DataFrame.map instead.\n",
      "  df = df.applymap(lambda x: x.replace(\"\\n\", \"\").replace(\"        \", \"\").strip() if isinstance(x, str) else x)\n"
     ]
    },
    {
     "name": "stdout",
     "output_type": "stream",
     "text": [
      "Fetching data for Asian Paints Ltd...\n"
     ]
    },
    {
     "name": "stderr",
     "output_type": "stream",
     "text": [
      "[*********************100%***********************]  1 of 1 completed\n",
      "C:\\Users\\dubey\\AppData\\Local\\Temp\\ipykernel_29536\\2606303267.py:86: FutureWarning: Calling float on a single element Series is deprecated and will raise a TypeError in the future. Use float(ser.iloc[0]) instead\n",
      "  float(returns_6m) if returns_6m is not None else None,\n",
      "C:\\Users\\dubey\\AppData\\Local\\Temp\\ipykernel_29536\\2606303267.py:87: FutureWarning: Calling float on a single element Series is deprecated and will raise a TypeError in the future. Use float(ser.iloc[0]) instead\n",
      "  float(returns_1y) if returns_1y is not None else None,\n",
      "C:\\Users\\dubey\\AppData\\Local\\Temp\\ipykernel_29536\\2606303267.py:88: FutureWarning: Calling float on a single element Series is deprecated and will raise a TypeError in the future. Use float(ser.iloc[0]) instead\n",
      "  float(returns_5y) if returns_5y is not None else None\n"
     ]
    },
    {
     "name": "stdout",
     "output_type": "stream",
     "text": [
      "Fetching data for Reliance Industries Ltd...\n"
     ]
    },
    {
     "name": "stderr",
     "output_type": "stream",
     "text": [
      "[*********************100%***********************]  1 of 1 completed\n",
      "C:\\Users\\dubey\\AppData\\Local\\Temp\\ipykernel_29536\\2606303267.py:86: FutureWarning: Calling float on a single element Series is deprecated and will raise a TypeError in the future. Use float(ser.iloc[0]) instead\n",
      "  float(returns_6m) if returns_6m is not None else None,\n",
      "C:\\Users\\dubey\\AppData\\Local\\Temp\\ipykernel_29536\\2606303267.py:87: FutureWarning: Calling float on a single element Series is deprecated and will raise a TypeError in the future. Use float(ser.iloc[0]) instead\n",
      "  float(returns_1y) if returns_1y is not None else None,\n",
      "C:\\Users\\dubey\\AppData\\Local\\Temp\\ipykernel_29536\\2606303267.py:88: FutureWarning: Calling float on a single element Series is deprecated and will raise a TypeError in the future. Use float(ser.iloc[0]) instead\n",
      "  float(returns_5y) if returns_5y is not None else None\n"
     ]
    },
    {
     "name": "stdout",
     "output_type": "stream",
     "text": [
      "Fetching data for Tata Consultancy Services Ltd...\n"
     ]
    },
    {
     "name": "stderr",
     "output_type": "stream",
     "text": [
      "[*********************100%***********************]  1 of 1 completed\n",
      "C:\\Users\\dubey\\AppData\\Local\\Temp\\ipykernel_29536\\2606303267.py:86: FutureWarning: Calling float on a single element Series is deprecated and will raise a TypeError in the future. Use float(ser.iloc[0]) instead\n",
      "  float(returns_6m) if returns_6m is not None else None,\n",
      "C:\\Users\\dubey\\AppData\\Local\\Temp\\ipykernel_29536\\2606303267.py:87: FutureWarning: Calling float on a single element Series is deprecated and will raise a TypeError in the future. Use float(ser.iloc[0]) instead\n",
      "  float(returns_1y) if returns_1y is not None else None,\n",
      "C:\\Users\\dubey\\AppData\\Local\\Temp\\ipykernel_29536\\2606303267.py:88: FutureWarning: Calling float on a single element Series is deprecated and will raise a TypeError in the future. Use float(ser.iloc[0]) instead\n",
      "  float(returns_5y) if returns_5y is not None else None\n"
     ]
    },
    {
     "name": "stdout",
     "output_type": "stream",
     "text": [
      "Fetching data for Infosys Ltd...\n"
     ]
    },
    {
     "name": "stderr",
     "output_type": "stream",
     "text": [
      "[*********************100%***********************]  1 of 1 completed\n",
      "C:\\Users\\dubey\\AppData\\Local\\Temp\\ipykernel_29536\\2606303267.py:86: FutureWarning: Calling float on a single element Series is deprecated and will raise a TypeError in the future. Use float(ser.iloc[0]) instead\n",
      "  float(returns_6m) if returns_6m is not None else None,\n",
      "C:\\Users\\dubey\\AppData\\Local\\Temp\\ipykernel_29536\\2606303267.py:87: FutureWarning: Calling float on a single element Series is deprecated and will raise a TypeError in the future. Use float(ser.iloc[0]) instead\n",
      "  float(returns_1y) if returns_1y is not None else None,\n",
      "C:\\Users\\dubey\\AppData\\Local\\Temp\\ipykernel_29536\\2606303267.py:88: FutureWarning: Calling float on a single element Series is deprecated and will raise a TypeError in the future. Use float(ser.iloc[0]) instead\n",
      "  float(returns_5y) if returns_5y is not None else None\n"
     ]
    },
    {
     "name": "stdout",
     "output_type": "stream",
     "text": [
      "Fetching data for HDFC Bank Ltd...\n"
     ]
    },
    {
     "name": "stderr",
     "output_type": "stream",
     "text": [
      "[*********************100%***********************]  1 of 1 completed\n",
      "C:\\Users\\dubey\\AppData\\Local\\Temp\\ipykernel_29536\\2606303267.py:86: FutureWarning: Calling float on a single element Series is deprecated and will raise a TypeError in the future. Use float(ser.iloc[0]) instead\n",
      "  float(returns_6m) if returns_6m is not None else None,\n",
      "C:\\Users\\dubey\\AppData\\Local\\Temp\\ipykernel_29536\\2606303267.py:87: FutureWarning: Calling float on a single element Series is deprecated and will raise a TypeError in the future. Use float(ser.iloc[0]) instead\n",
      "  float(returns_1y) if returns_1y is not None else None,\n",
      "C:\\Users\\dubey\\AppData\\Local\\Temp\\ipykernel_29536\\2606303267.py:88: FutureWarning: Calling float on a single element Series is deprecated and will raise a TypeError in the future. Use float(ser.iloc[0]) instead\n",
      "  float(returns_5y) if returns_5y is not None else None\n"
     ]
    },
    {
     "name": "stdout",
     "output_type": "stream",
     "text": [
      "Fetching data for ICICI Bank Ltd...\n"
     ]
    },
    {
     "name": "stderr",
     "output_type": "stream",
     "text": [
      "[*********************100%***********************]  1 of 1 completed\n",
      "C:\\Users\\dubey\\AppData\\Local\\Temp\\ipykernel_29536\\2606303267.py:86: FutureWarning: Calling float on a single element Series is deprecated and will raise a TypeError in the future. Use float(ser.iloc[0]) instead\n",
      "  float(returns_6m) if returns_6m is not None else None,\n",
      "C:\\Users\\dubey\\AppData\\Local\\Temp\\ipykernel_29536\\2606303267.py:87: FutureWarning: Calling float on a single element Series is deprecated and will raise a TypeError in the future. Use float(ser.iloc[0]) instead\n",
      "  float(returns_1y) if returns_1y is not None else None,\n",
      "C:\\Users\\dubey\\AppData\\Local\\Temp\\ipykernel_29536\\2606303267.py:88: FutureWarning: Calling float on a single element Series is deprecated and will raise a TypeError in the future. Use float(ser.iloc[0]) instead\n",
      "  float(returns_5y) if returns_5y is not None else None\n"
     ]
    },
    {
     "name": "stdout",
     "output_type": "stream",
     "text": [
      "Fetching data for ITC Ltd...\n"
     ]
    },
    {
     "name": "stderr",
     "output_type": "stream",
     "text": [
      "[*********************100%***********************]  1 of 1 completed\n",
      "C:\\Users\\dubey\\AppData\\Local\\Temp\\ipykernel_29536\\2606303267.py:86: FutureWarning: Calling float on a single element Series is deprecated and will raise a TypeError in the future. Use float(ser.iloc[0]) instead\n",
      "  float(returns_6m) if returns_6m is not None else None,\n",
      "C:\\Users\\dubey\\AppData\\Local\\Temp\\ipykernel_29536\\2606303267.py:87: FutureWarning: Calling float on a single element Series is deprecated and will raise a TypeError in the future. Use float(ser.iloc[0]) instead\n",
      "  float(returns_1y) if returns_1y is not None else None,\n",
      "C:\\Users\\dubey\\AppData\\Local\\Temp\\ipykernel_29536\\2606303267.py:88: FutureWarning: Calling float on a single element Series is deprecated and will raise a TypeError in the future. Use float(ser.iloc[0]) instead\n",
      "  float(returns_5y) if returns_5y is not None else None\n"
     ]
    },
    {
     "name": "stdout",
     "output_type": "stream",
     "text": [
      "Fetching data for Hindustan Unilever Ltd...\n"
     ]
    },
    {
     "name": "stderr",
     "output_type": "stream",
     "text": [
      "[*********************100%***********************]  1 of 1 completed\n",
      "C:\\Users\\dubey\\AppData\\Local\\Temp\\ipykernel_29536\\2606303267.py:86: FutureWarning: Calling float on a single element Series is deprecated and will raise a TypeError in the future. Use float(ser.iloc[0]) instead\n",
      "  float(returns_6m) if returns_6m is not None else None,\n",
      "C:\\Users\\dubey\\AppData\\Local\\Temp\\ipykernel_29536\\2606303267.py:87: FutureWarning: Calling float on a single element Series is deprecated and will raise a TypeError in the future. Use float(ser.iloc[0]) instead\n",
      "  float(returns_1y) if returns_1y is not None else None,\n",
      "C:\\Users\\dubey\\AppData\\Local\\Temp\\ipykernel_29536\\2606303267.py:88: FutureWarning: Calling float on a single element Series is deprecated and will raise a TypeError in the future. Use float(ser.iloc[0]) instead\n",
      "  float(returns_5y) if returns_5y is not None else None\n"
     ]
    },
    {
     "name": "stdout",
     "output_type": "stream",
     "text": [
      "Fetching data for State Bank of India...\n"
     ]
    },
    {
     "name": "stderr",
     "output_type": "stream",
     "text": [
      "[*********************100%***********************]  1 of 1 completed\n",
      "C:\\Users\\dubey\\AppData\\Local\\Temp\\ipykernel_29536\\2606303267.py:86: FutureWarning: Calling float on a single element Series is deprecated and will raise a TypeError in the future. Use float(ser.iloc[0]) instead\n",
      "  float(returns_6m) if returns_6m is not None else None,\n",
      "C:\\Users\\dubey\\AppData\\Local\\Temp\\ipykernel_29536\\2606303267.py:87: FutureWarning: Calling float on a single element Series is deprecated and will raise a TypeError in the future. Use float(ser.iloc[0]) instead\n",
      "  float(returns_1y) if returns_1y is not None else None,\n",
      "C:\\Users\\dubey\\AppData\\Local\\Temp\\ipykernel_29536\\2606303267.py:88: FutureWarning: Calling float on a single element Series is deprecated and will raise a TypeError in the future. Use float(ser.iloc[0]) instead\n",
      "  float(returns_5y) if returns_5y is not None else None\n"
     ]
    },
    {
     "name": "stdout",
     "output_type": "stream",
     "text": [
      "Fetching data for Bharti Airtel Ltd...\n"
     ]
    },
    {
     "name": "stderr",
     "output_type": "stream",
     "text": [
      "[*********************100%***********************]  1 of 1 completed"
     ]
    },
    {
     "name": "stdout",
     "output_type": "stream",
     "text": [
      "                    Company Name       Market Cap Current Price  \\\n",
      "0               Asian Paints Ltd   ₹2,30,941  Cr.        ₹2,408   \n",
      "1        Reliance Industries Ltd  ₹17,22,468  Cr.        ₹1,273   \n",
      "2  Tata Consultancy Services Ltd  ₹16,18,696  Cr.        ₹4,474   \n",
      "3                    Infosys Ltd   ₹8,30,325  Cr.        ₹2,000   \n",
      "4                  HDFC Bank Ltd  ₹14,30,929  Cr.        ₹1,872   \n",
      "5                 ICICI Bank Ltd   ₹9,49,165  Cr.        ₹1,345   \n",
      "6                        ITC Ltd   ₹5,88,008  Cr.          ₹470   \n",
      "7         Hindustan Unilever Ltd   ₹5,61,576  Cr.        ₹2,390   \n",
      "8            State Bank of India   ₹7,68,901  Cr.          ₹862   \n",
      "9              Bharti Airtel Ltd  ₹10,07,452  Cr.        ₹1,682   \n",
      "\n",
      "        High / Low Stock P/E Book Value Dividend Yield     ROCE      ROE  \\\n",
      "0  ₹ 3,423 / 2,354      50.3       ₹185        1.38  %  39.5  %  31.3  %   \n",
      "1  ₹ 1,609 / 1,217      47.2       ₹387        0.39  %  9.60  %  8.42  %   \n",
      "2  ₹ 4,592 / 3,592      33.7       ₹231        1.23  %  74.8  %  60.4  %   \n",
      "3  ₹ 2,007 / 1,358      30.1       ₹199        1.90  %  46.2  %  36.6  %   \n",
      "4  ₹ 1,880 / 1,363      21.7       ₹580        1.04  %  7.54  %  16.9  %   \n",
      "5    ₹ 1,362 / 970      21.7       ₹339        0.74  %  7.51  %  18.6  %   \n",
      "6      ₹ 529 / 399      28.6      ₹58.3        2.93  %  37.5  %  29.2  %   \n",
      "7  ₹ 3,035 / 2,170      55.3       ₹215        1.76  %  27.2  %  20.1  %   \n",
      "8      ₹ 912 / 601      10.9       ₹423        1.59  %  6.05  %  17.3  %   \n",
      "9    ₹ 1,779 / 960       133       ₹182        0.48  %  8.59  %  6.54  %   \n",
      "\n",
      "  Face Value  6M Returns  1Y Returns  5Y Returns  \n",
      "0      ₹1.00  -17.121070  -25.132218   44.649242  \n",
      "1      ₹10.0  -12.836036    3.788547   82.126668  \n",
      "2      ₹1.00   15.911730   25.922391  130.288739  \n",
      "3      ₹5.00   35.377283   37.954776  212.111204  \n",
      "4      ₹1.00   18.408983   16.556669   55.070848  \n",
      "5      ₹2.00   22.497672   35.208371  158.004152  \n",
      "6      ₹1.00    9.226124    4.773132  144.752064  \n",
      "7      ₹1.00   -2.238864   -5.294322   30.987134  \n",
      "8      ₹1.00    2.091476   43.972040  175.826664  \n",
      "9      ₹5.00   18.612803   65.076105  313.588420  \n"
     ]
    },
    {
     "name": "stderr",
     "output_type": "stream",
     "text": [
      "\n",
      "C:\\Users\\dubey\\AppData\\Local\\Temp\\ipykernel_29536\\2606303267.py:86: FutureWarning: Calling float on a single element Series is deprecated and will raise a TypeError in the future. Use float(ser.iloc[0]) instead\n",
      "  float(returns_6m) if returns_6m is not None else None,\n",
      "C:\\Users\\dubey\\AppData\\Local\\Temp\\ipykernel_29536\\2606303267.py:87: FutureWarning: Calling float on a single element Series is deprecated and will raise a TypeError in the future. Use float(ser.iloc[0]) instead\n",
      "  float(returns_1y) if returns_1y is not None else None,\n",
      "C:\\Users\\dubey\\AppData\\Local\\Temp\\ipykernel_29536\\2606303267.py:88: FutureWarning: Calling float on a single element Series is deprecated and will raise a TypeError in the future. Use float(ser.iloc[0]) instead\n",
      "  float(returns_5y) if returns_5y is not None else None\n"
     ]
    }
   ],
   "source": [
    "import requests\n",
    "from bs4 import BeautifulSoup\n",
    "import pandas as pd\n",
    "from datetime import datetime, timedelta\n",
    "import yfinance as yf\n",
    "\n",
    "stock_urls = [\n",
    "    \"https://www.screener.in/company/ASIANPAINT/\",\n",
    "    \"https://www.screener.in/company/RELIANCE/\",\n",
    "    \"https://www.screener.in/company/TCS/\",\n",
    "    \"https://www.screener.in/company/INFY/\",\n",
    "    \"https://www.screener.in/company/HDFCBANK/\",\n",
    "    \"https://www.screener.in/company/ICICIBANK/\",\n",
    "    \"https://www.screener.in/company/ITC/\",\n",
    "    \"https://www.screener.in/company/HINDUNILVR/\",\n",
    "    \"https://www.screener.in/company/SBIN/\",\n",
    "    \"https://www.screener.in/company/BHARTIARTL/\"\n",
    "]\n",
    "\n",
    "headers = {\n",
    "    'User-Agent': 'Mozilla/5.0 (Windows NT 10.0; Win64; x64) AppleWebKit/537.36 (KHTML, like Gecko) Chrome/108.0.0.0 Safari/537.36'\n",
    "}\n",
    "\n",
    "data = []\n",
    "\n",
    "for stock_url in stock_urls:\n",
    "    response = requests.get(stock_url, headers=headers)\n",
    "    if response.status_code == 200:\n",
    "        soup = BeautifulSoup(response.text, 'html.parser')\n",
    "        try:\n",
    "            stock_name = soup.find('h1', class_='h2 shrink-text').get_text(strip=True)\n",
    "            \n",
    "            ratios = {}\n",
    "            ratios_list = soup.find('ul', id='top-ratios').find_all('li')\n",
    "            for item in ratios_list:\n",
    "                ratio_name = item.find('span', class_='name').text.strip()\n",
    "                ratio_value = item.find('span', class_='nowrap value').text.strip()\n",
    "                ratios[ratio_name] = ratio_value\n",
    "            \n",
    "            stock_data = {'Company Name': stock_name}\n",
    "            stock_data.update(ratios)\n",
    "            data.append(stock_data)\n",
    "        except AttributeError:\n",
    "            print(f\"Failed to scrape data for {stock_url}\")\n",
    "    else:\n",
    "        print(f\"Failed to fetch URL: {stock_url} with status code {response.status_code}\")\n",
    "\n",
    "df = pd.DataFrame(data)\n",
    "df = df.applymap(lambda x: x.replace(\"\\n\", \"\").replace(\"        \", \"\").strip() if isinstance(x, str) else x)\n",
    "\n",
    "symbols = {\n",
    "    \"Asian Paints Ltd\": \"ASIANPAINT.NS\",\n",
    "    \"Reliance Industries Ltd\": \"RELIANCE.NS\",\n",
    "    \"Tata Consultancy Services Ltd\": \"TCS.NS\",\n",
    "    \"Infosys Ltd\": \"INFY.NS\",\n",
    "    \"HDFC Bank Ltd\": \"HDFCBANK.NS\",\n",
    "    \"ICICI Bank Ltd\": \"ICICIBANK.NS\",\n",
    "    \"ITC Ltd\": \"ITC.NS\",\n",
    "    \"Hindustan Unilever Ltd\": \"HINDUNILVR.NS\",\n",
    "    \"State Bank of India\": \"SBIN.NS\",\n",
    "    \"Bharti Airtel Ltd\": \"BHARTIARTL.NS\"\n",
    "}\n",
    "\n",
    "def calculate_returns(symbol):\n",
    "    end_date = datetime.now()\n",
    "    start_date = end_date - timedelta(days=365 * 5)  \n",
    "    data = yf.download(symbol, start=start_date, end=end_date)\n",
    "    \n",
    "    if data.empty:\n",
    "        return None, None, None  \n",
    "    \n",
    "    close_prices = data[\"Adj Close\"]\n",
    "    latest_price = close_prices.iloc[-1]\n",
    "    \n",
    "    returns_6m = returns_1y = returns_5y = None\n",
    "\n",
    "    if len(close_prices) > 126:\n",
    "        returns_6m = ((latest_price - close_prices.iloc[-126]) / close_prices.iloc[-126]) * 100\n",
    "    if len(close_prices) > 252:\n",
    "        returns_1y = ((latest_price - close_prices.iloc[-252]) / close_prices.iloc[-252]) * 100\n",
    "    if len(close_prices) > 0:\n",
    "        returns_5y = ((latest_price - close_prices.iloc[0]) / close_prices.iloc[0]) * 100\n",
    "\n",
    "    return (\n",
    "        float(returns_6m) if returns_6m is not None else None,\n",
    "        float(returns_1y) if returns_1y is not None else None,\n",
    "        float(returns_5y) if returns_5y is not None else None\n",
    "    )\n",
    "\n",
    "returns_data = []\n",
    "\n",
    "for company, symbol in symbols.items():\n",
    "    print(f\"Fetching data for {company}...\")\n",
    "    returns = calculate_returns(symbol)\n",
    "    if returns:\n",
    "        returns_data.append({\n",
    "            \"Company Name\": company,\n",
    "            \"6M Returns\": returns[0],\n",
    "            \"1Y Returns\": returns[1],\n",
    "            \"5Y Returns\": returns[2]\n",
    "        })\n",
    "\n",
    "returns_df = pd.DataFrame(returns_data)\n",
    "final_df = pd.merge(df, returns_df, on=\"Company Name\")\n",
    "\n",
    "print(final_df)\n",
    "final_df.to_csv(\"nifty50_stock_data_with_returns.csv\", index=False)\n"
   ]
  },
  {
   "cell_type": "code",
   "execution_count": null,
   "id": "052c3c78",
   "metadata": {},
   "outputs": [],
   "source": []
  },
  {
   "cell_type": "code",
   "execution_count": null,
   "id": "69f94bba",
   "metadata": {},
   "outputs": [],
   "source": []
  },
  {
   "cell_type": "code",
   "execution_count": null,
   "id": "7c48d939",
   "metadata": {},
   "outputs": [],
   "source": []
  },
  {
   "cell_type": "code",
   "execution_count": 11,
   "id": "1fe899ff",
   "metadata": {},
   "outputs": [
    {
     "name": "stderr",
     "output_type": "stream",
     "text": [
      "C:\\Users\\dubey\\AppData\\Local\\Temp\\ipykernel_29536\\642461417.py:49: FutureWarning: DataFrame.applymap has been deprecated. Use DataFrame.map instead.\n",
      "  df = df.applymap(lambda x: x.replace(\"\\n\", \"\").replace(\"        \", \"\").strip() if isinstance(x, str) else x)\n"
     ]
    },
    {
     "name": "stdout",
     "output_type": "stream",
     "text": [
      "                                    Market Cap Current Price       High / Low  \\\n",
      "Company Name                                                                    \n",
      "Asian Paints Ltd                ₹2,30,941  Cr.        ₹2,408  ₹ 3,423 / 2,354   \n",
      "Reliance Industries Ltd        ₹17,22,468  Cr.        ₹1,273  ₹ 1,609 / 1,217   \n",
      "Tata Consultancy Services Ltd  ₹16,18,696  Cr.        ₹4,474  ₹ 4,592 / 3,592   \n",
      "Infosys Ltd                     ₹8,30,325  Cr.        ₹2,000  ₹ 2,007 / 1,358   \n",
      "HDFC Bank Ltd                  ₹14,30,929  Cr.        ₹1,872  ₹ 1,880 / 1,363   \n",
      "ICICI Bank Ltd                  ₹9,49,165  Cr.        ₹1,345    ₹ 1,362 / 970   \n",
      "ITC Ltd                         ₹5,88,008  Cr.          ₹470      ₹ 529 / 399   \n",
      "Hindustan Unilever Ltd          ₹5,61,576  Cr.        ₹2,390  ₹ 3,035 / 2,170   \n",
      "State Bank of India             ₹7,68,901  Cr.          ₹862      ₹ 912 / 601   \n",
      "Bharti Airtel Ltd              ₹10,07,452  Cr.        ₹1,682    ₹ 1,779 / 960   \n",
      "\n",
      "                              Stock P/E Book Value Dividend Yield     ROCE  \\\n",
      "Company Name                                                                 \n",
      "Asian Paints Ltd                   50.3       ₹185        1.38  %  39.5  %   \n",
      "Reliance Industries Ltd            47.2       ₹387        0.39  %  9.60  %   \n",
      "Tata Consultancy Services Ltd      33.7       ₹231        1.23  %  74.8  %   \n",
      "Infosys Ltd                        30.1       ₹199        1.90  %  46.2  %   \n",
      "HDFC Bank Ltd                      21.7       ₹580        1.04  %  7.54  %   \n",
      "ICICI Bank Ltd                     21.7       ₹339        0.74  %  7.51  %   \n",
      "ITC Ltd                            28.6      ₹58.3        2.93  %  37.5  %   \n",
      "Hindustan Unilever Ltd             55.3       ₹215        1.76  %  27.2  %   \n",
      "State Bank of India                10.9       ₹423        1.59  %  6.05  %   \n",
      "Bharti Airtel Ltd                   133       ₹182        0.48  %  8.59  %   \n",
      "\n",
      "                                   ROE Face Value  \n",
      "Company Name                                       \n",
      "Asian Paints Ltd               31.3  %      ₹1.00  \n",
      "Reliance Industries Ltd        8.42  %      ₹10.0  \n",
      "Tata Consultancy Services Ltd  60.4  %      ₹1.00  \n",
      "Infosys Ltd                    36.6  %      ₹5.00  \n",
      "HDFC Bank Ltd                  16.9  %      ₹1.00  \n",
      "ICICI Bank Ltd                 18.6  %      ₹2.00  \n",
      "ITC Ltd                        29.2  %      ₹1.00  \n",
      "Hindustan Unilever Ltd         20.1  %      ₹1.00  \n",
      "State Bank of India            17.3  %      ₹1.00  \n",
      "Bharti Airtel Ltd              6.54  %      ₹5.00  \n",
      "Fetching data for Asian Paints Ltd...\n"
     ]
    },
    {
     "name": "stderr",
     "output_type": "stream",
     "text": [
      "[*********************100%***********************]  1 of 1 completed\n"
     ]
    },
    {
     "name": "stdout",
     "output_type": "stream",
     "text": [
      "Fetching data for Reliance Industries Ltd...\n"
     ]
    },
    {
     "name": "stderr",
     "output_type": "stream",
     "text": [
      "[*********************100%***********************]  1 of 1 completed\n"
     ]
    },
    {
     "name": "stdout",
     "output_type": "stream",
     "text": [
      "Fetching data for Tata Consultancy Services Ltd...\n"
     ]
    },
    {
     "name": "stderr",
     "output_type": "stream",
     "text": [
      "[*********************100%***********************]  1 of 1 completed\n"
     ]
    },
    {
     "name": "stdout",
     "output_type": "stream",
     "text": [
      "Fetching data for Infosys Ltd...\n"
     ]
    },
    {
     "name": "stderr",
     "output_type": "stream",
     "text": [
      "[*********************100%***********************]  1 of 1 completed\n"
     ]
    },
    {
     "name": "stdout",
     "output_type": "stream",
     "text": [
      "Fetching data for HDFC Bank Ltd...\n"
     ]
    },
    {
     "name": "stderr",
     "output_type": "stream",
     "text": [
      "[*********************100%***********************]  1 of 1 completed\n"
     ]
    },
    {
     "name": "stdout",
     "output_type": "stream",
     "text": [
      "Fetching data for ICICI Bank Ltd...\n"
     ]
    },
    {
     "name": "stderr",
     "output_type": "stream",
     "text": [
      "[*********************100%***********************]  1 of 1 completed\n"
     ]
    },
    {
     "name": "stdout",
     "output_type": "stream",
     "text": [
      "Fetching data for ITC Ltd...\n"
     ]
    },
    {
     "name": "stderr",
     "output_type": "stream",
     "text": [
      "[*********************100%***********************]  1 of 1 completed\n"
     ]
    },
    {
     "name": "stdout",
     "output_type": "stream",
     "text": [
      "Fetching data for Hindustan Unilever Ltd...\n"
     ]
    },
    {
     "name": "stderr",
     "output_type": "stream",
     "text": [
      "[*********************100%***********************]  1 of 1 completed\n"
     ]
    },
    {
     "name": "stdout",
     "output_type": "stream",
     "text": [
      "Fetching data for State Bank of India...\n"
     ]
    },
    {
     "name": "stderr",
     "output_type": "stream",
     "text": [
      "[*********************100%***********************]  1 of 1 completed\n"
     ]
    },
    {
     "name": "stdout",
     "output_type": "stream",
     "text": [
      "Fetching data for Bharti Airtel Ltd...\n"
     ]
    },
    {
     "name": "stderr",
     "output_type": "stream",
     "text": [
      "[*********************100%***********************]  1 of 1 completed"
     ]
    },
    {
     "name": "stdout",
     "output_type": "stream",
     "text": [
      "                    Company Name       Market Cap Current Price  \\\n",
      "0               Asian Paints Ltd   ₹2,30,941  Cr.        ₹2,408   \n",
      "1        Reliance Industries Ltd  ₹17,22,468  Cr.        ₹1,273   \n",
      "2  Tata Consultancy Services Ltd  ₹16,18,696  Cr.        ₹4,474   \n",
      "3                    Infosys Ltd   ₹8,30,325  Cr.        ₹2,000   \n",
      "4                  HDFC Bank Ltd  ₹14,30,929  Cr.        ₹1,872   \n",
      "5                 ICICI Bank Ltd   ₹9,49,165  Cr.        ₹1,345   \n",
      "6                        ITC Ltd   ₹5,88,008  Cr.          ₹470   \n",
      "7         Hindustan Unilever Ltd   ₹5,61,576  Cr.        ₹2,390   \n",
      "8            State Bank of India   ₹7,68,901  Cr.          ₹862   \n",
      "9              Bharti Airtel Ltd  ₹10,07,452  Cr.        ₹1,682   \n",
      "\n",
      "        High / Low Stock P/E Book Value Dividend Yield     ROCE      ROE  \\\n",
      "0  ₹ 3,423 / 2,354      50.3       ₹185        1.38  %  39.5  %  31.3  %   \n",
      "1  ₹ 1,609 / 1,217      47.2       ₹387        0.39  %  9.60  %  8.42  %   \n",
      "2  ₹ 4,592 / 3,592      33.7       ₹231        1.23  %  74.8  %  60.4  %   \n",
      "3  ₹ 2,007 / 1,358      30.1       ₹199        1.90  %  46.2  %  36.6  %   \n",
      "4  ₹ 1,880 / 1,363      21.7       ₹580        1.04  %  7.54  %  16.9  %   \n",
      "5    ₹ 1,362 / 970      21.7       ₹339        0.74  %  7.51  %  18.6  %   \n",
      "6      ₹ 529 / 399      28.6      ₹58.3        2.93  %  37.5  %  29.2  %   \n",
      "7  ₹ 3,035 / 2,170      55.3       ₹215        1.76  %  27.2  %  20.1  %   \n",
      "8      ₹ 912 / 601      10.9       ₹423        1.59  %  6.05  %  17.3  %   \n",
      "9    ₹ 1,779 / 960       133       ₹182        0.48  %  8.59  %  6.54  %   \n",
      "\n",
      "  Face Value                                        6M Returns  \\\n",
      "0      ₹1.00   Ticker\n",
      "ASIANPAINT.NS   -17.12107\n",
      "dtype: float64   \n",
      "1      ₹10.0    Ticker\n",
      "RELIANCE.NS   -12.836036\n",
      "dtype: float64   \n",
      "2      ₹1.00          Ticker\n",
      "TCS.NS    15.91173\n",
      "dtype: float64   \n",
      "3      ₹5.00        Ticker\n",
      "INFY.NS    35.377283\n",
      "dtype: float64   \n",
      "4      ₹1.00    Ticker\n",
      "HDFCBANK.NS    18.408983\n",
      "dtype: float64   \n",
      "5      ₹2.00   Ticker\n",
      "ICICIBANK.NS    22.497672\n",
      "dtype: float64   \n",
      "6      ₹1.00          Ticker\n",
      "ITC.NS    9.226124\n",
      "dtype: float64   \n",
      "7      ₹1.00   Ticker\n",
      "HINDUNILVR.NS   -2.238864\n",
      "dtype: float64   \n",
      "8      ₹1.00         Ticker\n",
      "SBIN.NS    2.091476\n",
      "dtype: float64   \n",
      "9      ₹5.00  Ticker\n",
      "BHARTIARTL.NS    18.612803\n",
      "dtype: float64   \n",
      "\n",
      "                                         1Y Returns  \\\n",
      "0  Ticker\n",
      "ASIANPAINT.NS   -25.132218\n",
      "dtype: float64   \n",
      "1     Ticker\n",
      "RELIANCE.NS    3.788547\n",
      "dtype: float64   \n",
      "2         Ticker\n",
      "TCS.NS    25.922391\n",
      "dtype: float64   \n",
      "3        Ticker\n",
      "INFY.NS    37.954776\n",
      "dtype: float64   \n",
      "4    Ticker\n",
      "HDFCBANK.NS    16.556669\n",
      "dtype: float64   \n",
      "5   Ticker\n",
      "ICICIBANK.NS    35.208371\n",
      "dtype: float64   \n",
      "6          Ticker\n",
      "ITC.NS    4.773132\n",
      "dtype: float64   \n",
      "7   Ticker\n",
      "HINDUNILVR.NS   -5.294322\n",
      "dtype: float64   \n",
      "8         Ticker\n",
      "SBIN.NS    43.97204\n",
      "dtype: float64   \n",
      "9  Ticker\n",
      "BHARTIARTL.NS    65.076105\n",
      "dtype: float64   \n",
      "\n",
      "                                          5Y Returns  \n",
      "0   Ticker\n",
      "ASIANPAINT.NS    44.649221\n",
      "dtype: float64  \n",
      "1     Ticker\n",
      "RELIANCE.NS    82.126652\n",
      "dtype: float64  \n",
      "2         Ticker\n",
      "TCS.NS    130.288783\n",
      "dtype: float64  \n",
      "3        Ticker\n",
      "INFY.NS    212.111263\n",
      "dtype: float64  \n",
      "4     Ticker\n",
      "HDFCBANK.NS    55.070817\n",
      "dtype: float64  \n",
      "5   Ticker\n",
      "ICICIBANK.NS    158.004152\n",
      "dtype: float64  \n",
      "6         Ticker\n",
      "ITC.NS    144.752103\n",
      "dtype: float64  \n",
      "7   Ticker\n",
      "HINDUNILVR.NS    30.987151\n",
      "dtype: float64  \n",
      "8        Ticker\n",
      "SBIN.NS    175.826664\n",
      "dtype: float64  \n",
      "9  Ticker\n",
      "BHARTIARTL.NS    313.588389\n",
      "dtype: float64  \n"
     ]
    },
    {
     "name": "stderr",
     "output_type": "stream",
     "text": [
      "\n"
     ]
    }
   ],
   "source": [
    "import requests\n",
    "from bs4 import BeautifulSoup\n",
    "import pandas as pd\n",
    "from datetime import datetime, timedelta\n",
    "import yfinance as yf\n",
    "\n",
    "stock_urls = [\n",
    "    \"https://www.screener.in/company/ASIANPAINT/\",\n",
    "    \"https://www.screener.in/company/RELIANCE/\",\n",
    "    \"https://www.screener.in/company/TCS/\",\n",
    "    \"https://www.screener.in/company/INFY/\",\n",
    "    \"https://www.screener.in/company/HDFCBANK/\",\n",
    "    \"https://www.screener.in/company/ICICIBANK/\",\n",
    "    \"https://www.screener.in/company/ITC/\",\n",
    "    \"https://www.screener.in/company/HINDUNILVR/\",\n",
    "    \"https://www.screener.in/company/SBIN/\",\n",
    "    \"https://www.screener.in/company/BHARTIARTL/\"\n",
    "]\n",
    "\n",
    "headers = {\n",
    "    'User-Agent': 'Mozilla/5.0 (Windows NT 10.0; Win64; x64) AppleWebKit/537.36 (KHTML, like Gecko) Chrome/108.0.0.0 Safari/537.36'\n",
    "}\n",
    "\n",
    "data = []\n",
    "\n",
    "for stock_url in stock_urls:\n",
    "    response = requests.get(stock_url, headers=headers)\n",
    "    if response.status_code == 200:\n",
    "        soup = BeautifulSoup(response.text, 'html.parser')\n",
    "        try:\n",
    "            stock_name = soup.find('h1', class_='h2 shrink-text').get_text(strip=True)\n",
    "            \n",
    "            ratios = {}\n",
    "            ratios_list = soup.find('ul', id='top-ratios').find_all('li')\n",
    "            for item in ratios_list:\n",
    "                ratio_name = item.find('span', class_='name').text.strip()\n",
    "                ratio_value = item.find('span', class_='nowrap value').text.strip()\n",
    "                ratios[ratio_name] = ratio_value\n",
    "            \n",
    "            stock_data = {'Company Name': stock_name}\n",
    "            stock_data.update(ratios)\n",
    "            data.append(stock_data)\n",
    "        except AttributeError:\n",
    "            print(f\"Failed to scrape data for {stock_url}\")\n",
    "    else:\n",
    "        print(f\"Failed to fetch URL: {stock_url} with status code {response.status_code}\")\n",
    "\n",
    "df = pd.DataFrame(data)\n",
    "df = df.applymap(lambda x: x.replace(\"\\n\", \"\").replace(\"        \", \"\").strip() if isinstance(x, str) else x)\n",
    "df = df.set_index(\"Company Name\", inplace = False)\n",
    "\n",
    "print(df)\n",
    "df.to_csv(\"stock_data.csv\", index=False)\n",
    "\n",
    "\n",
    "\n",
    "\n",
    "nifty50_symbols = {\n",
    "    \"Asian Paints Ltd\": \"ASIANPAINT.NS\",\n",
    "    \"Reliance Industries Ltd\": \"RELIANCE.NS\",\n",
    "    \"Tata Consultancy Services Ltd\": \"TCS.NS\",\n",
    "    \"Infosys Ltd\": \"INFY.NS\",\n",
    "    \"HDFC Bank Ltd\": \"HDFCBANK.NS\",\n",
    "    \"ICICI Bank Ltd\": \"ICICIBANK.NS\",\n",
    "    \"ITC Ltd\": \"ITC.NS\",\n",
    "    \"Hindustan Unilever Ltd\": \"HINDUNILVR.NS\",\n",
    "    \"State Bank of India\": \"SBIN.NS\",\n",
    "    \"Bharti Airtel Ltd\": \"BHARTIARTL.NS\"\n",
    "}\n",
    "\n",
    "\n",
    "def calculate_returns(symbol):\n",
    "    end_date = datetime.now()\n",
    "    start_date = end_date - timedelta(days=365 * 5)  # Fetch data for the last 5 years\n",
    "    data = yf.download(symbol, start=start_date, end=end_date)\n",
    "    \n",
    "    # Calculate returns based on 'Adj Close' prices\n",
    "    if data.empty:\n",
    "        return None, None, None  # Return None if no data available\n",
    "    \n",
    "    close_prices = data[\"Adj Close\"]\n",
    "    latest_price = close_prices.iloc[-1]\n",
    "\n",
    "    # Get historical prices\n",
    "    returns_6m = ((latest_price - close_prices.iloc[-126]) / close_prices.iloc[-126]) * 100 if len(close_prices) > 126 else None\n",
    "    returns_1y = ((latest_price - close_prices.iloc[-252]) / close_prices.iloc[-252]) * 100 if len(close_prices) > 252 else None\n",
    "    returns_5y = ((latest_price - close_prices.iloc[0]) / close_prices.iloc[0]) * 100 if len(close_prices) > 0 else None\n",
    "\n",
    "    return returns_6m, returns_1y, returns_5y\n",
    "\n",
    "# Create an empty list to store return data\n",
    "returns_data = []\n",
    "\n",
    "# Calculate returns for each stock\n",
    "for company, symbol in nifty50_symbols.items():\n",
    "    print(f\"Fetching data for {company}...\")\n",
    "    returns = calculate_returns(symbol)\n",
    "    returns_data.append({\n",
    "        \"Company Name\": company, \n",
    "        \"6M Returns\": returns[0],\n",
    "        \"1Y Returns\": returns[1],\n",
    "        \"5Y Returns\": returns[2]\n",
    "    })\n",
    "\n",
    "# Create a DataFrame for returns\n",
    "returns_df = pd.DataFrame(returns_data)\n",
    "\n",
    "\n",
    "stock_df = df\n",
    "\n",
    "# Merge the stock data with returns\n",
    "final_df = pd.merge(stock_df, returns_df, on = \"Company Name\")\n",
    "\n",
    "# Set 'Company Name' as index\n",
    "#final_df.set_index(\"Company Name\", inplace=True)\n",
    "\n",
    "# Display final DataFrame\n",
    "print(final_df)\n",
    "\n",
    "# Save to CSV\n",
    "final_df.to_csv(\"nifty50_stock_data_with_returns.csv\")\n"
   ]
  },
  {
   "cell_type": "code",
   "execution_count": null,
   "id": "8da36189",
   "metadata": {},
   "outputs": [],
   "source": []
  },
  {
   "cell_type": "code",
   "execution_count": 12,
   "id": "c0cdafe8",
   "metadata": {},
   "outputs": [
    {
     "name": "stderr",
     "output_type": "stream",
     "text": [
      "C:\\Users\\dubey\\AppData\\Local\\Temp\\ipykernel_29536\\2415104845.py:50: FutureWarning: DataFrame.applymap has been deprecated. Use DataFrame.map instead.\n",
      "  df = df.applymap(lambda x: x.replace(\"\\n\", \"\").replace(\"        \", \"\").strip() if isinstance(x, str) else x)\n"
     ]
    },
    {
     "name": "stdout",
     "output_type": "stream",
     "text": [
      "Fetching data for Asian Paints Ltd...\n"
     ]
    },
    {
     "name": "stderr",
     "output_type": "stream",
     "text": [
      "[*********************100%***********************]  1 of 1 completed\n"
     ]
    },
    {
     "name": "stdout",
     "output_type": "stream",
     "text": [
      "Fetching data for Reliance Industries Ltd...\n"
     ]
    },
    {
     "name": "stderr",
     "output_type": "stream",
     "text": [
      "[*********************100%***********************]  1 of 1 completed\n"
     ]
    },
    {
     "name": "stdout",
     "output_type": "stream",
     "text": [
      "Fetching data for Tata Consultancy Services Ltd...\n"
     ]
    },
    {
     "name": "stderr",
     "output_type": "stream",
     "text": [
      "[*********************100%***********************]  1 of 1 completed\n"
     ]
    },
    {
     "name": "stdout",
     "output_type": "stream",
     "text": [
      "Fetching data for Infosys Ltd...\n"
     ]
    },
    {
     "name": "stderr",
     "output_type": "stream",
     "text": [
      "[*********************100%***********************]  1 of 1 completed\n"
     ]
    },
    {
     "name": "stdout",
     "output_type": "stream",
     "text": [
      "Fetching data for HDFC Bank Ltd...\n"
     ]
    },
    {
     "name": "stderr",
     "output_type": "stream",
     "text": [
      "[*********************100%***********************]  1 of 1 completed\n"
     ]
    },
    {
     "name": "stdout",
     "output_type": "stream",
     "text": [
      "Fetching data for ICICI Bank Ltd...\n"
     ]
    },
    {
     "name": "stderr",
     "output_type": "stream",
     "text": [
      "[*********************100%***********************]  1 of 1 completed\n"
     ]
    },
    {
     "name": "stdout",
     "output_type": "stream",
     "text": [
      "Fetching data for ITC Ltd...\n"
     ]
    },
    {
     "name": "stderr",
     "output_type": "stream",
     "text": [
      "[*********************100%***********************]  1 of 1 completed\n"
     ]
    },
    {
     "name": "stdout",
     "output_type": "stream",
     "text": [
      "Fetching data for Hindustan Unilever Ltd...\n"
     ]
    },
    {
     "name": "stderr",
     "output_type": "stream",
     "text": [
      "[*********************100%***********************]  1 of 1 completed\n"
     ]
    },
    {
     "name": "stdout",
     "output_type": "stream",
     "text": [
      "Fetching data for State Bank of India...\n"
     ]
    },
    {
     "name": "stderr",
     "output_type": "stream",
     "text": [
      "[*********************100%***********************]  1 of 1 completed\n"
     ]
    },
    {
     "name": "stdout",
     "output_type": "stream",
     "text": [
      "Fetching data for Bharti Airtel Ltd...\n"
     ]
    },
    {
     "name": "stderr",
     "output_type": "stream",
     "text": [
      "[*********************100%***********************]  1 of 1 completed"
     ]
    },
    {
     "name": "stdout",
     "output_type": "stream",
     "text": [
      "                    Company Name       Market Cap Current Price  \\\n",
      "0               Asian Paints Ltd   ₹2,30,941  Cr.        ₹2,408   \n",
      "1        Reliance Industries Ltd  ₹17,22,468  Cr.        ₹1,273   \n",
      "2  Tata Consultancy Services Ltd  ₹16,18,696  Cr.        ₹4,474   \n",
      "3                    Infosys Ltd   ₹8,30,325  Cr.        ₹2,000   \n",
      "4                  HDFC Bank Ltd  ₹14,30,929  Cr.        ₹1,872   \n",
      "5                 ICICI Bank Ltd   ₹9,49,165  Cr.        ₹1,345   \n",
      "6                        ITC Ltd   ₹5,88,008  Cr.          ₹470   \n",
      "7         Hindustan Unilever Ltd   ₹5,61,576  Cr.        ₹2,390   \n",
      "8            State Bank of India   ₹7,68,901  Cr.          ₹862   \n",
      "9              Bharti Airtel Ltd  ₹10,07,452  Cr.        ₹1,682   \n",
      "\n",
      "        High / Low Stock P/E Book Value Dividend Yield     ROCE      ROE  \\\n",
      "0  ₹ 3,423 / 2,354      50.3       ₹185        1.38  %  39.5  %  31.3  %   \n",
      "1  ₹ 1,609 / 1,217      47.2       ₹387        0.39  %  9.60  %  8.42  %   \n",
      "2  ₹ 4,592 / 3,592      33.7       ₹231        1.23  %  74.8  %  60.4  %   \n",
      "3  ₹ 2,007 / 1,358      30.1       ₹199        1.90  %  46.2  %  36.6  %   \n",
      "4  ₹ 1,880 / 1,363      21.7       ₹580        1.04  %  7.54  %  16.9  %   \n",
      "5    ₹ 1,362 / 970      21.7       ₹339        0.74  %  7.51  %  18.6  %   \n",
      "6      ₹ 529 / 399      28.6      ₹58.3        2.93  %  37.5  %  29.2  %   \n",
      "7  ₹ 3,035 / 2,170      55.3       ₹215        1.76  %  27.2  %  20.1  %   \n",
      "8      ₹ 912 / 601      10.9       ₹423        1.59  %  6.05  %  17.3  %   \n",
      "9    ₹ 1,779 / 960       133       ₹182        0.48  %  8.59  %  6.54  %   \n",
      "\n",
      "  Face Value                                        6M Returns  \\\n",
      "0      ₹1.00   Ticker\n",
      "ASIANPAINT.NS   -17.12107\n",
      "dtype: float64   \n",
      "1      ₹10.0    Ticker\n",
      "RELIANCE.NS   -12.836036\n",
      "dtype: float64   \n",
      "2      ₹1.00          Ticker\n",
      "TCS.NS    15.91173\n",
      "dtype: float64   \n",
      "3      ₹5.00        Ticker\n",
      "INFY.NS    35.377283\n",
      "dtype: float64   \n",
      "4      ₹1.00    Ticker\n",
      "HDFCBANK.NS    18.408983\n",
      "dtype: float64   \n",
      "5      ₹2.00   Ticker\n",
      "ICICIBANK.NS    22.497672\n",
      "dtype: float64   \n",
      "6      ₹1.00          Ticker\n",
      "ITC.NS    9.226124\n",
      "dtype: float64   \n",
      "7      ₹1.00   Ticker\n",
      "HINDUNILVR.NS   -2.238864\n",
      "dtype: float64   \n",
      "8      ₹1.00         Ticker\n",
      "SBIN.NS    2.091476\n",
      "dtype: float64   \n",
      "9      ₹5.00  Ticker\n",
      "BHARTIARTL.NS    18.612803\n",
      "dtype: float64   \n",
      "\n",
      "                                         1Y Returns  \\\n",
      "0  Ticker\n",
      "ASIANPAINT.NS   -25.132224\n",
      "dtype: float64   \n",
      "1     Ticker\n",
      "RELIANCE.NS    3.788547\n",
      "dtype: float64   \n",
      "2           Ticker\n",
      "TCS.NS    25.9224\n",
      "dtype: float64   \n",
      "3        Ticker\n",
      "INFY.NS    37.954776\n",
      "dtype: float64   \n",
      "4    Ticker\n",
      "HDFCBANK.NS    16.556669\n",
      "dtype: float64   \n",
      "5   Ticker\n",
      "ICICIBANK.NS    35.208371\n",
      "dtype: float64   \n",
      "6          Ticker\n",
      "ITC.NS    4.773132\n",
      "dtype: float64   \n",
      "7   Ticker\n",
      "HINDUNILVR.NS   -5.294313\n",
      "dtype: float64   \n",
      "8         Ticker\n",
      "SBIN.NS    43.97204\n",
      "dtype: float64   \n",
      "9  Ticker\n",
      "BHARTIARTL.NS    65.076105\n",
      "dtype: float64   \n",
      "\n",
      "                                          5Y Returns  \n",
      "0   Ticker\n",
      "ASIANPAINT.NS    44.649242\n",
      "dtype: float64  \n",
      "1     Ticker\n",
      "RELIANCE.NS    82.126652\n",
      "dtype: float64  \n",
      "2         Ticker\n",
      "TCS.NS    130.288768\n",
      "dtype: float64  \n",
      "3        Ticker\n",
      "INFY.NS    212.111293\n",
      "dtype: float64  \n",
      "4     Ticker\n",
      "HDFCBANK.NS    55.070817\n",
      "dtype: float64  \n",
      "5   Ticker\n",
      "ICICIBANK.NS    158.004152\n",
      "dtype: float64  \n",
      "6         Ticker\n",
      "ITC.NS    144.752084\n",
      "dtype: float64  \n",
      "7   Ticker\n",
      "HINDUNILVR.NS    30.987151\n",
      "dtype: float64  \n",
      "8        Ticker\n",
      "SBIN.NS    175.826691\n",
      "dtype: float64  \n",
      "9  Ticker\n",
      "BHARTIARTL.NS    313.588389\n",
      "dtype: float64  \n"
     ]
    },
    {
     "name": "stderr",
     "output_type": "stream",
     "text": [
      "\n"
     ]
    }
   ],
   "source": [
    "import requests\n",
    "from bs4 import BeautifulSoup\n",
    "import pandas as pd\n",
    "from datetime import datetime, timedelta\n",
    "import yfinance as yf\n",
    "\n",
    "stock_urls = [\n",
    "    \"https://www.screener.in/company/ASIANPAINT/\",\n",
    "    \"https://www.screener.in/company/RELIANCE/\",\n",
    "    \"https://www.screener.in/company/TCS/\",\n",
    "    \"https://www.screener.in/company/INFY/\",\n",
    "    \"https://www.screener.in/company/HDFCBANK/\",\n",
    "    \"https://www.screener.in/company/ICICIBANK/\",\n",
    "    \"https://www.screener.in/company/ITC/\",\n",
    "    \"https://www.screener.in/company/HINDUNILVR/\",\n",
    "    \"https://www.screener.in/company/SBIN/\",\n",
    "    \"https://www.screener.in/company/BHARTIARTL/\"\n",
    "]\n",
    "\n",
    "headers = {\n",
    "    'User-Agent': 'Mozilla/5.0 (Windows NT 10.0; Win64; x64) AppleWebKit/537.36 (KHTML, like Gecko) Chrome/108.0.0.0 Safari/537.36'\n",
    "}\n",
    "\n",
    "data = []\n",
    "\n",
    "# Scrape stock data\n",
    "for stock_url in stock_urls:\n",
    "    response = requests.get(stock_url, headers=headers)\n",
    "    if response.status_code == 200:\n",
    "        soup = BeautifulSoup(response.text, 'html.parser')\n",
    "        try:\n",
    "            stock_name = soup.find('h1', class_='h2 shrink-text').get_text(strip=True)\n",
    "            \n",
    "            ratios = {}\n",
    "            ratios_list = soup.find('ul', id='top-ratios').find_all('li')\n",
    "            for item in ratios_list:\n",
    "                ratio_name = item.find('span', class_='name').text.strip()\n",
    "                ratio_value = item.find('span', class_='nowrap value').text.strip()\n",
    "                ratios[ratio_name] = ratio_value\n",
    "            \n",
    "            stock_data = {'Company Name': stock_name}\n",
    "            stock_data.update(ratios)\n",
    "            data.append(stock_data)\n",
    "        except AttributeError:\n",
    "            print(f\"Failed to scrape data for {stock_url}\")\n",
    "    else:\n",
    "        print(f\"Failed to fetch URL: {stock_url} with status code {response.status_code}\")\n",
    "\n",
    "df = pd.DataFrame(data)\n",
    "df = df.applymap(lambda x: x.replace(\"\\n\", \"\").replace(\"        \", \"\").strip() if isinstance(x, str) else x)\n",
    "\n",
    "# Ticker mapping for Nifty50 stocks\n",
    "nifty50_symbols = {\n",
    "    \"Asian Paints Ltd\": \"ASIANPAINT.NS\",\n",
    "    \"Reliance Industries Ltd\": \"RELIANCE.NS\",\n",
    "    \"Tata Consultancy Services Ltd\": \"TCS.NS\",\n",
    "    \"Infosys Ltd\": \"INFY.NS\",\n",
    "    \"HDFC Bank Ltd\": \"HDFCBANK.NS\",\n",
    "    \"ICICI Bank Ltd\": \"ICICIBANK.NS\",\n",
    "    \"ITC Ltd\": \"ITC.NS\",\n",
    "    \"Hindustan Unilever Ltd\": \"HINDUNILVR.NS\",\n",
    "    \"State Bank of India\": \"SBIN.NS\",\n",
    "    \"Bharti Airtel Ltd\": \"BHARTIARTL.NS\"\n",
    "}\n",
    "\n",
    "# Function to calculate returns\n",
    "def calculate_returns(symbol):\n",
    "    end_date = datetime.now()\n",
    "    start_date = end_date - timedelta(days=365 * 5)  # Fetch data for the last 5 years\n",
    "    data = yf.download(symbol, start=start_date, end=end_date)\n",
    "    \n",
    "    # Calculate returns based on 'Adj Close' prices\n",
    "    if data.empty:\n",
    "        return None, None, None  # Return None if no data available\n",
    "    \n",
    "    close_prices = data[\"Adj Close\"]\n",
    "    latest_price = close_prices.iloc[-1]\n",
    "\n",
    "    # Get historical prices\n",
    "    returns_6m = ((latest_price - close_prices.iloc[-126]) / close_prices.iloc[-126]) * 100 if len(close_prices) > 126 else None\n",
    "    returns_1y = ((latest_price - close_prices.iloc[-252]) / close_prices.iloc[-252]) * 100 if len(close_prices) > 252 else None\n",
    "    returns_5y = ((latest_price - close_prices.iloc[0]) / close_prices.iloc[0]) * 100 if len(close_prices) > 0 else None\n",
    "\n",
    "    return returns_6m, returns_1y, returns_5y\n",
    "\n",
    "# Create an empty list to store return data\n",
    "returns_data = []\n",
    "\n",
    "# Calculate returns for each stock\n",
    "for company, symbol in nifty50_symbols.items():\n",
    "    print(f\"Fetching data for {company}...\")\n",
    "    returns = calculate_returns(symbol)\n",
    "    returns_data.append({\n",
    "        \"Company Name\": company, \n",
    "        \"6M Returns\": returns[0],\n",
    "        \"1Y Returns\": returns[1],\n",
    "        \"5Y Returns\": returns[2]\n",
    "    })\n",
    "\n",
    "# Create a DataFrame for returns\n",
    "returns_df = pd.DataFrame(returns_data)\n",
    "\n",
    "# Merge the stock data with returns\n",
    "final_df = pd.merge(df, returns_df, on=\"Company Name\")\n",
    "\n",
    "# Display final DataFrame\n",
    "print(final_df)\n",
    "\n",
    "# Save to CSV\n",
    "final_df.to_csv(\"nifty50_stock_data_with_returns.csv\", index=False)\n"
   ]
  },
  {
   "cell_type": "code",
   "execution_count": null,
   "id": "94b978e4",
   "metadata": {},
   "outputs": [],
   "source": []
  },
  {
   "cell_type": "code",
   "execution_count": null,
   "id": "9ee1eaa6",
   "metadata": {},
   "outputs": [],
   "source": []
  },
  {
   "cell_type": "code",
   "execution_count": 1,
   "id": "1e974729",
   "metadata": {},
   "outputs": [
    {
     "name": "stdout",
     "output_type": "stream",
     "text": [
      "Company Name: Asian Paints Ltd\n",
      "Data:\n",
      "  Market Cap: ₹\n",
      "        2,30,941\n",
      "        \n",
      "          Cr.\n",
      "  Current Price: ₹\n",
      "        2,408\n",
      "  High / Low: ₹ 3,423 / 2,354\n",
      "  Stock P/E: 50.3\n",
      "  Book Value: ₹\n",
      "        185\n",
      "  Dividend Yield: 1.38\n",
      "        \n",
      "          %\n",
      "  ROCE: 39.5\n",
      "        \n",
      "          %\n",
      "  ROE: 31.3\n",
      "        \n",
      "          %\n",
      "  Face Value: ₹\n",
      "        1.00\n"
     ]
    }
   ],
   "source": [
    "import requests\n",
    "from bs4 import BeautifulSoup\n",
    "\n",
    "stock_url = \"https://www.screener.in/company/ASIANPAINT/\"\n",
    "headers = {\n",
    "    'User-Agent': 'Mozilla/5.0 (Windows NT 10.0; Win64; x64) AppleWebKit/537.36 (KHTML, like Gecko) Chrome/108.0.0.0 Safari/537.36'\n",
    "}\n",
    "\n",
    "response = requests.get(stock_url, headers=headers)\n",
    "\n",
    "if response.status_code == 200:\n",
    "    soup = BeautifulSoup(response.text, 'html.parser')\n",
    "\n",
    "stock_name = soup.find('h1', class_='h2 shrink-text').get_text(strip=True)\n",
    "\n",
    "ratios = {}\n",
    "ratios_list = soup.find('ul', id='top-ratios').find_all('li')\n",
    "for item in ratios_list:\n",
    "    ratio_name = item.find('span', class_='name').text.strip()\n",
    "    ratio_value = item.find('span', class_='nowrap value').text.strip()\n",
    "    ratios[ratio_name] = ratio_value\n",
    "\n",
    "print(f\"Company Name: {stock_name}\")\n",
    "print(\"Data:\")\n",
    "for key, value in ratios.items():\n",
    "    print(f\"  {key}: {value}\")"
   ]
  },
  {
   "cell_type": "code",
   "execution_count": null,
   "id": "346d818d",
   "metadata": {},
   "outputs": [],
   "source": []
  }
 ],
 "metadata": {
  "kernelspec": {
   "display_name": "Python 3 (ipykernel)",
   "language": "python",
   "name": "python3"
  },
  "language_info": {
   "codemirror_mode": {
    "name": "ipython",
    "version": 3
   },
   "file_extension": ".py",
   "mimetype": "text/x-python",
   "name": "python",
   "nbconvert_exporter": "python",
   "pygments_lexer": "ipython3",
   "version": "3.11.5"
  }
 },
 "nbformat": 4,
 "nbformat_minor": 5
}

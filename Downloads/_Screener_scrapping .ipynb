{
 "cells": [
  {
   "cell_type": "code",
   "execution_count": 1,
   "id": "026b752c",
   "metadata": {},
   "outputs": [
    {
     "name": "stdout",
     "output_type": "stream",
     "text": [
      "Company Name: Asian Paints Ltd\n",
      "Data:\n",
      "  Market Cap: ₹\n",
      "        2,30,941\n",
      "        \n",
      "          Cr.\n",
      "  Current Price: ₹\n",
      "        2,408\n",
      "  High / Low: ₹ 3,423 / 2,354\n",
      "  Stock P/E: 50.3\n",
      "  Book Value: ₹\n",
      "        185\n",
      "  Dividend Yield: 1.38\n",
      "        \n",
      "          %\n",
      "  ROCE: 39.5\n",
      "        \n",
      "          %\n",
      "  ROE: 31.3\n",
      "        \n",
      "          %\n",
      "  Face Value: ₹\n",
      "        1.00\n"
     ]
    }
   ],
   "source": [
    "import requests\n",
    "from bs4 import BeautifulSoup\n",
    "\n",
    "stock_url = \"https://www.screener.in/company/ASIANPAINT/\"\n",
    "headers = {\n",
    "    'User-Agent': 'Mozilla/5.0 (Windows NT 10.0; Win64; x64) AppleWebKit/537.36 (KHTML, like Gecko) Chrome/108.0.0.0 Safari/537.36'\n",
    "}\n",
    "\n",
    "response = requests.get(stock_url, headers=headers)\n",
    "\n",
    "if response.status_code == 200:\n",
    "    soup = BeautifulSoup(response.text, 'html.parser')\n",
    "\n",
    "stock_name = soup.find('h1', class_='h2 shrink-text').get_text(strip=True)\n",
    "\n",
    "ratios = {}\n",
    "ratios_list = soup.find('ul', id='top-ratios').find_all('li')\n",
    "for item in ratios_list:\n",
    "    ratio_name = item.find('span', class_='name').text.strip()\n",
    "    ratio_value = item.find('span', class_='nowrap value').text.strip()\n",
    "    ratios[ratio_name] = ratio_value\n",
    "\n",
    "print(f\"Company Name: {stock_name}\")\n",
    "print(\"Data:\")\n",
    "for key, value in ratios.items():\n",
    "    print(f\"  {key}: {value}\")"
   ]
  },
  {
   "cell_type": "code",
   "execution_count": null,
   "id": "7c4d6aa8",
   "metadata": {},
   "outputs": [],
   "source": []
  }
 ],
 "metadata": {
  "kernelspec": {
   "display_name": "Python 3 (ipykernel)",
   "language": "python",
   "name": "python3"
  },
  "language_info": {
   "codemirror_mode": {
    "name": "ipython",
    "version": 3
   },
   "file_extension": ".py",
   "mimetype": "text/x-python",
   "name": "python",
   "nbconvert_exporter": "python",
   "pygments_lexer": "ipython3",
   "version": "3.11.5"
  }
 },
 "nbformat": 4,
 "nbformat_minor": 5
}
